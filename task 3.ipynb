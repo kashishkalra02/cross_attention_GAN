{
 "cells": [
  {
   "cell_type": "code",
   "execution_count": 14,
   "id": "5603aba0-2eca-4ca1-8079-8bd828e28c34",
   "metadata": {},
   "outputs": [],
   "source": [
    "import pandas as pd \n",
    "import numpy as np\n"
   ]
  },
  {
   "cell_type": "code",
   "execution_count": 2,
   "id": "69d48aad-1b1b-4d75-afa4-ba1541d64913",
   "metadata": {},
   "outputs": [],
   "source": [
    "import matplotlib.pyplot as plt\n"
   ]
  },
  {
   "cell_type": "code",
   "execution_count": 3,
   "id": "7f1c9432-3c36-4f1b-9dc9-b9517764ccd0",
   "metadata": {},
   "outputs": [],
   "source": [
    "import tensorflow as tf\n",
    "from tensorflow import keras\n",
    "from tensorflow.keras import layers"
   ]
  },
  {
   "cell_type": "code",
   "execution_count": 4,
   "id": "1327d072-86a3-4a27-9cd7-cf39879f2c27",
   "metadata": {},
   "outputs": [],
   "source": [
    "def self_attention(x):\n",
    "    attn = layers.MultiHeadAttention(num_heads=2, key_dim=32)(x, x)\n",
    "    return layers.Add()([x, attn])\n"
   ]
  },
  {
   "cell_type": "code",
   "execution_count": 6,
   "id": "4b3ec349-511a-4774-9f46-9a0221cd57ee",
   "metadata": {},
   "outputs": [],
   "source": [
    "generator_input = layers.Input(shape=(101,))\n",
    "x = layers.Dense(256, activation='relu')(generator_input)\n",
    "x = layers.Reshape((16, 16, 1))(x)\n",
    "x = layers.Conv2DTranspose(64, (3,3), activation='relu', padding='same')(x)\n",
    "x = self_attention(x)  \n",
    "x = layers.Conv2DTranspose(1, (3,3), activation='sigmoid', padding='same')(x)\n",
    "generator = keras.Model(generator_input, x)\n"
   ]
  },
  {
   "cell_type": "code",
   "execution_count": 7,
   "id": "de163865-d308-4a50-a3fa-2faaa337860b",
   "metadata": {},
   "outputs": [],
   "source": [
    "discriminator_input = layers.Input(shape=(16, 16, 1))\n",
    "x = layers.Conv2D(64, (3,3), activation='relu', padding='same')(discriminator_input)\n",
    "x = self_attention(x)  \n",
    "x = layers.Flatten()(x)\n",
    "x = layers.Dense(1, activation='sigmoid')(x)\n",
    "discriminator = keras.Model(discriminator_input, x)"
   ]
  },
  {
   "cell_type": "code",
   "execution_count": 8,
   "id": "353b0ce9-d934-42df-838a-b16a988c9858",
   "metadata": {},
   "outputs": [],
   "source": [
    "discriminator.compile(loss='binary_crossentropy', optimizer='adam', metrics=['accuracy'])"
   ]
  },
  {
   "cell_type": "code",
   "execution_count": 10,
   "id": "191b1494-2deb-41a9-bbc6-e007221b4a7c",
   "metadata": {},
   "outputs": [],
   "source": [
    "gan_input = layers.Input(shape=(101,))\n",
    "gan_output = discriminator(generator(gan_input))\n",
    "gan = keras.Model(gan_input, gan_output)\n",
    "gan.compile(loss='binary_crossentropy', optimizer='adam')"
   ]
  },
  {
   "cell_type": "code",
   "execution_count": 15,
   "id": "91d2ecfb-cf1f-494f-8a90-8e7ed1978afc",
   "metadata": {},
   "outputs": [
    {
     "name": "stdout",
     "output_type": "stream",
     "text": [
      "\u001b[1m1/1\u001b[0m \u001b[32m━━━━━━━━━━━━━━━━━━━━\u001b[0m\u001b[37m\u001b[0m \u001b[1m1s\u001b[0m 1s/step\n"
     ]
    }
   ],
   "source": [
    "noise = np.random.randn(1, 100)\n",
    "label = np.random.randn(1, 1)\n",
    "input_data = np.concatenate([noise, label], axis=1)\n",
    "img = generator.predict(input_data)"
   ]
  },
  {
   "cell_type": "code",
   "execution_count": 16,
   "id": "8349c8c6-4bf4-4336-8ef2-14d5bc24714a",
   "metadata": {},
   "outputs": [
    {
     "data": {
      "image/png": "[encoded data removed]",
      "text/plain": [
       "<Figure size 640x480 with 1 Axes>"
      ]
     },
     "metadata": {},
     "output_type": "display_data"
    }
   ],
   "source": [
    "plt.imshow(img[0].squeeze(), cmap='gray')\n",
    "plt.show()\n"
   ]
  },
  {
   "cell_type": "code",
   "execution_count": null,
   "id": "c5567848-fb40-4b0f-b3b9-588f9c9f7eae",
   "metadata": {},
   "outputs": [],
   "source": []
  }
 ],
 "metadata": {
  "kernelspec": {
   "display_name": "Python 3 (ipykernel)",
   "language": "python",
   "name": "python3"
  },
  "language_info": {
   "codemirror_mode": {
    "name": "ipython",
    "version": 3
   },
   "file_extension": ".py",
   "mimetype": "text/x-python",
   "name": "python",
   "nbconvert_exporter": "python",
   "pygments_lexer": "ipython3",
   "version": "3.11.7"
  }
 },
 "nbformat": 4,
 "nbformat_minor": 5
}
